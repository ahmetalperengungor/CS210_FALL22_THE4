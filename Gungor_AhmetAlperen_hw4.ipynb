{
  "nbformat": 4,
  "nbformat_minor": 0,
  "metadata": {
    "colab": {
      "provenance": []
    },
    "kernelspec": {
      "name": "python3",
      "display_name": "Python 3"
    },
    "language_info": {
      "name": "python"
    }
  },
  "cells": [
    {
      "cell_type": "markdown",
      "source": [
        "# Homework 4: Fraud Detection\n",
        "\n",
        "*In this homework, you are going to work with a credit card transaction dataset.*\n",
        "\n",
        "**Submission Instructions**\n",
        "\n",
        "---\n",
        "It is important that you follow the submission instructions. \n",
        "1. Copy this assignment notebook to your Drive. <font color = 'red'> `File` --> `Save a copy in Drive`</font>. Rename it as <font color = 'green'>`Lastname_Firstname_hw4`</font>.\n",
        "\n",
        "2. Write your solutions in the cells  marked <font color = 'green'>`# your code`</font>.\n",
        "\n",
        "3. **Do not delete your outputs. They are essential for the grading. Make sure that cells containing your solutions are executed, and the results are displayed in the notebook.**\n",
        "\n",
        "4. When you're done, please submit your solutions as an <font color=\"red\">`.ipynb`</font> file. To do so:\n",
        "\n",
        "\n",
        "*   Click on <font color=\"red\">`File`</font>  at the top left on the Colab screen, then click on <font color = 'red'>`Download .ipynb`</font>.\n",
        "*   Then submit the downloaded <font color=\"red\">`.ipynb`</font> version of your work on SUCourse.\n",
        "\n",
        "For any question, you may send an email to the TAs and LAs.\n",
        "\n",
        "---"
      ],
      "metadata": {
        "id": "yoxk8HgPgWTK"
      }
    },
    {
      "cell_type": "markdown",
      "source": [
        "In this homework, you will work on a dataset about credit card frauds.\n",
        "\n",
        "For this homework, you will use the provided file `creditcard_fraud.csv`. Feature engineering had already been applied to the dataset and informative features created. Names of these features are hidden for secrecy purposes to protect user identity.\n",
        "\n",
        "Below, you can find all the set of features, provided in the dataset:\n",
        "*   **Known Features**\n",
        "    * time: Number of seconds elapsed between this transaction and the first transaction in the dataset\n",
        "    * amount: Transaction amount\n",
        "\n",
        "*   **Other Features**\n",
        "    * V1 - V28: Hidden transaction features to protect user identities\n",
        "\n",
        "*   **Target**\n",
        "    * Class: 1 for Fraudulent transactions, 0 otherwise\n",
        "    \n",
        "\n",
        "    \n",
        "*Do not forget to add the shared `creditcard_fraud.csv` file to your drive and mount to your drive. Otherwise, you won't be able to read the file.*"
      ],
      "metadata": {
        "id": "fBcCcd-6gaaJ"
      }
    },
    {
      "cell_type": "code",
      "execution_count": 1,
      "metadata": {
        "id": "UBdI2zjqgPZN",
        "outputId": "be466c85-048a-4723-9120-bd88d27ba284",
        "colab": {
          "base_uri": "https://localhost:8080/"
        }
      },
      "outputs": [
        {
          "output_type": "stream",
          "name": "stdout",
          "text": [
            "Mounted at ./drive\n"
          ]
        }
      ],
      "source": [
        "from google.colab import drive\n",
        "drive.mount(\"./drive\", force_remount=True)\n",
        "\n",
        "# You can change this to the correct path\n",
        "path_prefix = \"./drive/My Drive\""
      ]
    },
    {
      "cell_type": "code",
      "source": [
        "import pandas as pd \n",
        "import numpy as np\n",
        "import matplotlib.pyplot as plt\n",
        "from os.path import join\n",
        "import warnings\n",
        "warnings.filterwarnings('ignore')\n",
        "\n",
        "%matplotlib inline"
      ],
      "metadata": {
        "id": "T0XzdcRjgg14"
      },
      "execution_count": 2,
      "outputs": []
    },
    {
      "cell_type": "code",
      "source": [
        "filename = \"creditcard_fraud.csv\"\n",
        "df = pd.read_csv(join(path_prefix, filename))\n",
        "\n",
        "df.head()"
      ],
      "metadata": {
        "id": "wuaKhRu1gi7J",
        "outputId": "8d5ede17-8a1c-42f1-b237-206ce7613f9e",
        "colab": {
          "base_uri": "https://localhost:8080/",
          "height": 299
        }
      },
      "execution_count": 3,
      "outputs": [
        {
          "output_type": "execute_result",
          "data": {
            "text/plain": [
              "   Time        V1        V2        V3        V4        V5        V6        V7  \\\n",
              "0   0.0 -1.359807 -0.072781  2.536347  1.378155 -0.338321  0.462388  0.239599   \n",
              "1   0.0  1.191857  0.266151  0.166480  0.448154  0.060018 -0.082361 -0.078803   \n",
              "2   1.0 -1.358354 -1.340163  1.773209  0.379780 -0.503198  1.800499  0.791461   \n",
              "3   1.0 -0.966272 -0.185226  1.792993 -0.863291 -0.010309  1.247203  0.237609   \n",
              "4   2.0 -1.158233  0.877737  1.548718  0.403034 -0.407193  0.095921  0.592941   \n",
              "\n",
              "         V8        V9  ...       V21       V22       V23       V24       V25  \\\n",
              "0  0.098698  0.363787  ... -0.018307  0.277838 -0.110474  0.066928  0.128539   \n",
              "1  0.085102 -0.255425  ... -0.225775 -0.638672  0.101288 -0.339846  0.167170   \n",
              "2  0.247676 -1.514654  ...  0.247998  0.771679  0.909412 -0.689281 -0.327642   \n",
              "3  0.377436 -1.387024  ... -0.108300  0.005274 -0.190321 -1.175575  0.647376   \n",
              "4 -0.270533  0.817739  ... -0.009431  0.798278 -0.137458  0.141267 -0.206010   \n",
              "\n",
              "        V26       V27       V28  Amount  Class  \n",
              "0 -0.189115  0.133558 -0.021053  149.62      0  \n",
              "1  0.125895 -0.008983  0.014724    2.69      0  \n",
              "2 -0.139097 -0.055353 -0.059752  378.66      0  \n",
              "3 -0.221929  0.062723  0.061458  123.50      0  \n",
              "4  0.502292  0.219422  0.215153   69.99      0  \n",
              "\n",
              "[5 rows x 31 columns]"
            ],
            "text/html": [
              "\n",
              "  <div id=\"df-db116fed-854e-4e9f-b943-64f036563be3\">\n",
              "    <div class=\"colab-df-container\">\n",
              "      <div>\n",
              "<style scoped>\n",
              "    .dataframe tbody tr th:only-of-type {\n",
              "        vertical-align: middle;\n",
              "    }\n",
              "\n",
              "    .dataframe tbody tr th {\n",
              "        vertical-align: top;\n",
              "    }\n",
              "\n",
              "    .dataframe thead th {\n",
              "        text-align: right;\n",
              "    }\n",
              "</style>\n",
              "<table border=\"1\" class=\"dataframe\">\n",
              "  <thead>\n",
              "    <tr style=\"text-align: right;\">\n",
              "      <th></th>\n",
              "      <th>Time</th>\n",
              "      <th>V1</th>\n",
              "      <th>V2</th>\n",
              "      <th>V3</th>\n",
              "      <th>V4</th>\n",
              "      <th>V5</th>\n",
              "      <th>V6</th>\n",
              "      <th>V7</th>\n",
              "      <th>V8</th>\n",
              "      <th>V9</th>\n",
              "      <th>...</th>\n",
              "      <th>V21</th>\n",
              "      <th>V22</th>\n",
              "      <th>V23</th>\n",
              "      <th>V24</th>\n",
              "      <th>V25</th>\n",
              "      <th>V26</th>\n",
              "      <th>V27</th>\n",
              "      <th>V28</th>\n",
              "      <th>Amount</th>\n",
              "      <th>Class</th>\n",
              "    </tr>\n",
              "  </thead>\n",
              "  <tbody>\n",
              "    <tr>\n",
              "      <th>0</th>\n",
              "      <td>0.0</td>\n",
              "      <td>-1.359807</td>\n",
              "      <td>-0.072781</td>\n",
              "      <td>2.536347</td>\n",
              "      <td>1.378155</td>\n",
              "      <td>-0.338321</td>\n",
              "      <td>0.462388</td>\n",
              "      <td>0.239599</td>\n",
              "      <td>0.098698</td>\n",
              "      <td>0.363787</td>\n",
              "      <td>...</td>\n",
              "      <td>-0.018307</td>\n",
              "      <td>0.277838</td>\n",
              "      <td>-0.110474</td>\n",
              "      <td>0.066928</td>\n",
              "      <td>0.128539</td>\n",
              "      <td>-0.189115</td>\n",
              "      <td>0.133558</td>\n",
              "      <td>-0.021053</td>\n",
              "      <td>149.62</td>\n",
              "      <td>0</td>\n",
              "    </tr>\n",
              "    <tr>\n",
              "      <th>1</th>\n",
              "      <td>0.0</td>\n",
              "      <td>1.191857</td>\n",
              "      <td>0.266151</td>\n",
              "      <td>0.166480</td>\n",
              "      <td>0.448154</td>\n",
              "      <td>0.060018</td>\n",
              "      <td>-0.082361</td>\n",
              "      <td>-0.078803</td>\n",
              "      <td>0.085102</td>\n",
              "      <td>-0.255425</td>\n",
              "      <td>...</td>\n",
              "      <td>-0.225775</td>\n",
              "      <td>-0.638672</td>\n",
              "      <td>0.101288</td>\n",
              "      <td>-0.339846</td>\n",
              "      <td>0.167170</td>\n",
              "      <td>0.125895</td>\n",
              "      <td>-0.008983</td>\n",
              "      <td>0.014724</td>\n",
              "      <td>2.69</td>\n",
              "      <td>0</td>\n",
              "    </tr>\n",
              "    <tr>\n",
              "      <th>2</th>\n",
              "      <td>1.0</td>\n",
              "      <td>-1.358354</td>\n",
              "      <td>-1.340163</td>\n",
              "      <td>1.773209</td>\n",
              "      <td>0.379780</td>\n",
              "      <td>-0.503198</td>\n",
              "      <td>1.800499</td>\n",
              "      <td>0.791461</td>\n",
              "      <td>0.247676</td>\n",
              "      <td>-1.514654</td>\n",
              "      <td>...</td>\n",
              "      <td>0.247998</td>\n",
              "      <td>0.771679</td>\n",
              "      <td>0.909412</td>\n",
              "      <td>-0.689281</td>\n",
              "      <td>-0.327642</td>\n",
              "      <td>-0.139097</td>\n",
              "      <td>-0.055353</td>\n",
              "      <td>-0.059752</td>\n",
              "      <td>378.66</td>\n",
              "      <td>0</td>\n",
              "    </tr>\n",
              "    <tr>\n",
              "      <th>3</th>\n",
              "      <td>1.0</td>\n",
              "      <td>-0.966272</td>\n",
              "      <td>-0.185226</td>\n",
              "      <td>1.792993</td>\n",
              "      <td>-0.863291</td>\n",
              "      <td>-0.010309</td>\n",
              "      <td>1.247203</td>\n",
              "      <td>0.237609</td>\n",
              "      <td>0.377436</td>\n",
              "      <td>-1.387024</td>\n",
              "      <td>...</td>\n",
              "      <td>-0.108300</td>\n",
              "      <td>0.005274</td>\n",
              "      <td>-0.190321</td>\n",
              "      <td>-1.175575</td>\n",
              "      <td>0.647376</td>\n",
              "      <td>-0.221929</td>\n",
              "      <td>0.062723</td>\n",
              "      <td>0.061458</td>\n",
              "      <td>123.50</td>\n",
              "      <td>0</td>\n",
              "    </tr>\n",
              "    <tr>\n",
              "      <th>4</th>\n",
              "      <td>2.0</td>\n",
              "      <td>-1.158233</td>\n",
              "      <td>0.877737</td>\n",
              "      <td>1.548718</td>\n",
              "      <td>0.403034</td>\n",
              "      <td>-0.407193</td>\n",
              "      <td>0.095921</td>\n",
              "      <td>0.592941</td>\n",
              "      <td>-0.270533</td>\n",
              "      <td>0.817739</td>\n",
              "      <td>...</td>\n",
              "      <td>-0.009431</td>\n",
              "      <td>0.798278</td>\n",
              "      <td>-0.137458</td>\n",
              "      <td>0.141267</td>\n",
              "      <td>-0.206010</td>\n",
              "      <td>0.502292</td>\n",
              "      <td>0.219422</td>\n",
              "      <td>0.215153</td>\n",
              "      <td>69.99</td>\n",
              "      <td>0</td>\n",
              "    </tr>\n",
              "  </tbody>\n",
              "</table>\n",
              "<p>5 rows × 31 columns</p>\n",
              "</div>\n",
              "      <button class=\"colab-df-convert\" onclick=\"convertToInteractive('df-db116fed-854e-4e9f-b943-64f036563be3')\"\n",
              "              title=\"Convert this dataframe to an interactive table.\"\n",
              "              style=\"display:none;\">\n",
              "        \n",
              "  <svg xmlns=\"http://www.w3.org/2000/svg\" height=\"24px\"viewBox=\"0 0 24 24\"\n",
              "       width=\"24px\">\n",
              "    <path d=\"M0 0h24v24H0V0z\" fill=\"none\"/>\n",
              "    <path d=\"M18.56 5.44l.94 2.06.94-2.06 2.06-.94-2.06-.94-.94-2.06-.94 2.06-2.06.94zm-11 1L8.5 8.5l.94-2.06 2.06-.94-2.06-.94L8.5 2.5l-.94 2.06-2.06.94zm10 10l.94 2.06.94-2.06 2.06-.94-2.06-.94-.94-2.06-.94 2.06-2.06.94z\"/><path d=\"M17.41 7.96l-1.37-1.37c-.4-.4-.92-.59-1.43-.59-.52 0-1.04.2-1.43.59L10.3 9.45l-7.72 7.72c-.78.78-.78 2.05 0 2.83L4 21.41c.39.39.9.59 1.41.59.51 0 1.02-.2 1.41-.59l7.78-7.78 2.81-2.81c.8-.78.8-2.07 0-2.86zM5.41 20L4 18.59l7.72-7.72 1.47 1.35L5.41 20z\"/>\n",
              "  </svg>\n",
              "      </button>\n",
              "      \n",
              "  <style>\n",
              "    .colab-df-container {\n",
              "      display:flex;\n",
              "      flex-wrap:wrap;\n",
              "      gap: 12px;\n",
              "    }\n",
              "\n",
              "    .colab-df-convert {\n",
              "      background-color: #E8F0FE;\n",
              "      border: none;\n",
              "      border-radius: 50%;\n",
              "      cursor: pointer;\n",
              "      display: none;\n",
              "      fill: #1967D2;\n",
              "      height: 32px;\n",
              "      padding: 0 0 0 0;\n",
              "      width: 32px;\n",
              "    }\n",
              "\n",
              "    .colab-df-convert:hover {\n",
              "      background-color: #E2EBFA;\n",
              "      box-shadow: 0px 1px 2px rgba(60, 64, 67, 0.3), 0px 1px 3px 1px rgba(60, 64, 67, 0.15);\n",
              "      fill: #174EA6;\n",
              "    }\n",
              "\n",
              "    [theme=dark] .colab-df-convert {\n",
              "      background-color: #3B4455;\n",
              "      fill: #D2E3FC;\n",
              "    }\n",
              "\n",
              "    [theme=dark] .colab-df-convert:hover {\n",
              "      background-color: #434B5C;\n",
              "      box-shadow: 0px 1px 3px 1px rgba(0, 0, 0, 0.15);\n",
              "      filter: drop-shadow(0px 1px 2px rgba(0, 0, 0, 0.3));\n",
              "      fill: #FFFFFF;\n",
              "    }\n",
              "  </style>\n",
              "\n",
              "      <script>\n",
              "        const buttonEl =\n",
              "          document.querySelector('#df-db116fed-854e-4e9f-b943-64f036563be3 button.colab-df-convert');\n",
              "        buttonEl.style.display =\n",
              "          google.colab.kernel.accessAllowed ? 'block' : 'none';\n",
              "\n",
              "        async function convertToInteractive(key) {\n",
              "          const element = document.querySelector('#df-db116fed-854e-4e9f-b943-64f036563be3');\n",
              "          const dataTable =\n",
              "            await google.colab.kernel.invokeFunction('convertToInteractive',\n",
              "                                                     [key], {});\n",
              "          if (!dataTable) return;\n",
              "\n",
              "          const docLinkHtml = 'Like what you see? Visit the ' +\n",
              "            '<a target=\"_blank\" href=https://colab.research.google.com/notebooks/data_table.ipynb>data table notebook</a>'\n",
              "            + ' to learn more about interactive tables.';\n",
              "          element.innerHTML = '';\n",
              "          dataTable['output_type'] = 'display_data';\n",
              "          await google.colab.output.renderOutput(dataTable, element);\n",
              "          const docLink = document.createElement('div');\n",
              "          docLink.innerHTML = docLinkHtml;\n",
              "          element.appendChild(docLink);\n",
              "        }\n",
              "      </script>\n",
              "    </div>\n",
              "  </div>\n",
              "  "
            ]
          },
          "metadata": {},
          "execution_count": 3
        }
      ]
    },
    {
      "cell_type": "markdown",
      "source": [
        "## Q1 - Ratio Between Fraudalent and Non-Fraudalent Transactions (5 Points)\n",
        "\n",
        "The dataset is imbalanced so that non-frauds are dominant in the data. In this part you are asked to plot a pie chart and show the ratio between fraudalent and non-fraudalent transactions. Your output should be like: \n",
        "\n",
        "<img src=\"https://i.ibb.co/7KpVFG9/pie.png\" alt=\"pie\" border=\"0\" width=\"300\">\n",
        "\n"
      ],
      "metadata": {
        "id": "ycIDUJGugnPP"
      }
    },
    {
      "cell_type": "code",
      "source": [
        "# Your Code\n",
        "\n",
        "fraudCount = (df['Class'] == 1).sum()\n",
        "nonFraudCount = (df['Class'] == 0).sum()\n",
        "\n",
        "labels = [\"Fraud\", \"Non-Fraud\"]\n",
        "counts = [fraudCount, nonFraudCount]\n",
        "colors = ['red', 'blue']\n",
        "\n",
        "plt.pie(counts, labels=labels, colors=colors, autopct='%1.1f%%')\n",
        "plt.title('Ratio of Transactions')\n",
        "plt.show()"
      ],
      "metadata": {
        "id": "OyXiX4Lqgq4q",
        "colab": {
          "base_uri": "https://localhost:8080/",
          "height": 264
        },
        "outputId": "9844b748-ff55-4040-d46c-5b3ff900b03d"
      },
      "execution_count": 4,
      "outputs": [
        {
          "output_type": "display_data",
          "data": {
            "text/plain": [
              "<Figure size 432x288 with 1 Axes>"
            ],
            "image/png": "[encoded data removed]"
          },
          "metadata": {}
        }
      ]
    },
    {
      "cell_type": "markdown",
      "source": [
        "## Q2 - Split the data into train (60%), validation (20%) and test (20%). (5 Points)\n",
        "\n",
        "Use `train_test_split` with `random_state` parameter set to 0. Drop `Time` column since it doesn't give any information.\n",
        "\n",
        "***Important:** Do not forget that the data is imbalanced so you should handle that with stratified splitting. Search how you can do this with `train_test_split` function*"
      ],
      "metadata": {
        "id": "kTkwhYVlgyTN"
      }
    },
    {
      "cell_type": "code",
      "source": [
        "# Your Code\n",
        "\n",
        "from sklearn.model_selection import train_test_split\n",
        "\n",
        "df = df.drop('Time', axis = 1)\n",
        "y = df['Class']\n",
        "X = df.drop('Class', axis = 1)\n",
        "\n",
        "X_train, X_remaining, y_train, y_remaining = train_test_split(X, y, test_size=0.40, random_state=0)\n",
        "X_test, X_val, y_test, y_val = train_test_split(X_remaining, y_remaining, test_size=0.50, random_state=0)\n",
        "\n",
        "print(X_train.shape)\n",
        "print(X_val.shape)\n",
        "print(X_test.shape)"
      ],
      "metadata": {
        "id": "nE-wYYO9gyyV",
        "colab": {
          "base_uri": "https://localhost:8080/"
        },
        "outputId": "482d974b-4d4c-48a9-a8d0-ef98786523df"
      },
      "execution_count": 5,
      "outputs": [
        {
          "output_type": "stream",
          "name": "stdout",
          "text": [
            "(25635, 29)\n",
            "(8546, 29)\n",
            "(8545, 29)\n"
          ]
        }
      ]
    },
    {
      "cell_type": "markdown",
      "source": [
        "## Q3 - Build 2 Baseline Models (5 Points)\n",
        "\n",
        "You are going to build a Random Forest and a Gradient Boosting model. Set random_state = 0. Then fit the model with training data."
      ],
      "metadata": {
        "id": "e6KbrogHg5kj"
      }
    },
    {
      "cell_type": "code",
      "source": [
        "#Your Code\n",
        "\n",
        "from sklearn.ensemble import RandomForestClassifier\n",
        "from sklearn.ensemble import GradientBoostingClassifier\n",
        "\n",
        "model_rf = RandomForestClassifier(random_state=0)\n",
        "model_rf.fit(X_train, y_train)\n",
        "\n",
        "model_gb = GradientBoostingClassifier(random_state=0)\n",
        "model_gb.fit(X_train, y_train)"
      ],
      "metadata": {
        "id": "wrf8N6ahg6Ot",
        "colab": {
          "base_uri": "https://localhost:8080/"
        },
        "outputId": "ee0d417b-4d34-4247-b996-cccc87ac57a6"
      },
      "execution_count": 6,
      "outputs": [
        {
          "output_type": "execute_result",
          "data": {
            "text/plain": [
              "GradientBoostingClassifier(random_state=0)"
            ]
          },
          "metadata": {},
          "execution_count": 6
        }
      ]
    },
    {
      "cell_type": "markdown",
      "source": [
        "## Q4 - Evaluate the Baseline Model (30 Points)\n",
        "\n",
        "There are some functions below already imported for you. You can use those functions to find results but of course there are other ways too. Those are given for you to give hints. "
      ],
      "metadata": {
        "id": "k5KpT6_JhD3V"
      }
    },
    {
      "cell_type": "markdown",
      "source": [
        "### Part 1 - Plot Confusion Matrix (10 Points)\n",
        "\n",
        "In this part you are asked to plot the Confusion Matrix for both Random Forest and Gradient Boosting model for the predictions made on the validation data. These outputs should be side by side. You can use subplots from matplotlib. \n",
        "\n",
        "**Note**: There are many ways to use subplots, so don't stick with one of them if it doesn't work. Two libraries are given to you for confusion matrix. However, you are free to use any other or implement it yourself. The colors of the confusion matrix don't have to be the same with the expected output.\n",
        "\n",
        "\n",
        "<img src=\"https://i.ibb.co/JrknyR8/conf2.png\" alt=\"conf2\" border=\"0\" width=\"600\">\n",
        "\n",
        "*Please keep in mind that this confusion matrix might be different than what you will get due to randomness.*"
      ],
      "metadata": {
        "id": "iA0oF3hShG4M"
      }
    },
    {
      "cell_type": "code",
      "source": [
        "# Your Code\n",
        "\n",
        "from sklearn.metrics import plot_confusion_matrix\n",
        "from sklearn.metrics import confusion_matrix\n",
        "\n",
        "predictions_rf_val = model_rf.predict(X_val)\n",
        "predictions_gb_val = model_gb.predict(X_val)\n",
        "\n",
        "confusion_rf = confusion_matrix(y_val, predictions_rf_val)\n",
        "confusion_gb = confusion_matrix(y_val, predictions_gb_val)\n",
        "\n",
        "\n",
        "fig, (ax1, ax2) = plt.subplots(1, 2, figsize=(16, 8))\n",
        "\n",
        "plot_confusion_matrix(model_rf, X_val, y_val, ax=ax1, cmap='Blues')\n",
        "ax1.set_title('Random Forest')\n",
        "\n",
        "plot_confusion_matrix(model_gb, X_val, y_val, ax=ax2, cmap='Greens')\n",
        "ax2.set_title('Gradient Boosting')\n",
        "\n",
        "plt.show()\n",
        "\n"
      ],
      "metadata": {
        "id": "j2IPSUJqhENY",
        "colab": {
          "base_uri": "https://localhost:8080/",
          "height": 466
        },
        "outputId": "42e0e1f2-798e-420f-b64b-7949cfa4b05e"
      },
      "execution_count": 7,
      "outputs": [
        {
          "output_type": "display_data",
          "data": {
            "text/plain": [
              "<Figure size 1152x576 with 4 Axes>"
            ],
            "image/png": "[encoded data removed]"
          },
          "metadata": {
            "needs_background": "light"
          }
        }
      ]
    },
    {
      "cell_type": "markdown",
      "source": [
        "### Part 2 - Plot ROC Curve Evaluated on Validation Data (20 Points)\n",
        "\n",
        "In this part you are asked to plot ROC curve of these two model's output on the validation data. You can see the expected format below.\n",
        "\n",
        "\n",
        "<img src=\"https://i.ibb.co/5BZKHd1/curves.png\" alt=\"curves\" border=\"0\" width=\"500\">\n",
        "\n",
        "*Please keep in mind that this plot might be different than what you will get due to randomness.*"
      ],
      "metadata": {
        "id": "CslF9ARShPGw"
      }
    },
    {
      "cell_type": "code",
      "source": [
        "# Your Code\n",
        "\n",
        "from sklearn.metrics import RocCurveDisplay, PrecisionRecallDisplay, roc_curve, auc, precision_recall_curve\n",
        "\n",
        "predictions_rf_p = model_rf.predict_proba(X_val)\n",
        "predictions_rf_p = predictions_rf_p[:,1]\n",
        "predictions_gb_p = model_gb.predict_proba(X_val)\n",
        "predictions_gb_p = predictions_gb_p[:,1]\n",
        "\n",
        "rf_fpr, rf_tpr, rf_thresholds = roc_curve(y_val, predictions_rf_p)\n",
        "rf_auc = auc(rf_fpr, rf_tpr)\n",
        "\n",
        "gb_fpr, gb_tpr, gb_thresholds = roc_curve(y_val, predictions_gb_p)\n",
        "gb_auc = auc(gb_fpr, gb_tpr)\n",
        "\n",
        "rf_precision, rf_recall, rf_thresholds = precision_recall_curve(y_val, predictions_rf_p)\n",
        "\n",
        "gb_precision, gb_recall, gb_thresholds = precision_recall_curve(y_val, predictions_gb_p)\n",
        "\n",
        "fig, axs = plt.subplots(2, 2, figsize=(10, 10))\n",
        "RocCurveDisplay(fpr=rf_fpr, tpr=rf_tpr, roc_auc=rf_auc, estimator_name='Random Forest').plot(ax=axs[0, 0])\n",
        "axs[0, 0].plot([0, 1], [0, 1], '--', color='red')  \n",
        "axs[0, 0].set_xlim([0, 1])  \n",
        "axs[0, 0].set_ylim([0, 1])  \n",
        "\n",
        "RocCurveDisplay(fpr=gb_fpr, tpr=gb_tpr, roc_auc=gb_auc, estimator_name='Gradient Boosting').plot(ax=axs[0, 1])\n",
        "axs[0, 1].plot([0, 1], [0, 1], '--', color='red')  \n",
        "axs[0, 1].set_xlim([0, 1])  \n",
        "axs[0, 1].set_ylim([0, 1])  \n",
        "\n",
        "PrecisionRecallDisplay(recall=rf_recall, precision=rf_precision, estimator_name='Random Forest').plot(ax=axs[1, 0])\n",
        "\n",
        "PrecisionRecallDisplay(recall=gb_recall, precision=gb_precision, estimator_name='Gradient Boosting').plot(ax=axs[1, 1])\n",
        "\n",
        "axs[0, 0].set_title(\"Random Forest ROC\")\n",
        "axs[0, 1].set_title(\"Gradient Boosting ROC\")\n",
        "axs[1, 0].set_title(\"Random Forest Precision-Recall Curve\")\n",
        "axs[1, 1].set_title(\"Gradient Boosting Precision-Recall Curve\")\n",
        "\n",
        "plt.show()\n"
      ],
      "metadata": {
        "id": "rdUvMqqihPfc",
        "colab": {
          "base_uri": "https://localhost:8080/",
          "height": 621
        },
        "outputId": "c2a360fb-8382-44de-f8f6-089d388eafed"
      },
      "execution_count": 8,
      "outputs": [
        {
          "output_type": "display_data",
          "data": {
            "text/plain": [
              "<Figure size 720x720 with 4 Axes>"
            ],
            "image/png": "[encoded data removed]"
          },
          "metadata": {
            "needs_background": "light"
          }
        }
      ]
    },
    {
      "cell_type": "markdown",
      "source": [
        "## Q5 - Hyperparameter Tuning (50 Points)"
      ],
      "metadata": {
        "id": "ZCxjVm6KhYaS"
      }
    },
    {
      "cell_type": "markdown",
      "source": [
        "### Getting Hyperparameter Tuning Results (50 Points)\n",
        "\n",
        "Now that you trained the default model and see the results, it is time to make it better with hyperparameter tuning. To evaluate the model performances you need to use AUPRC(Area Under Precision-Recall Curve). To this end, store AUPRC values for each model then decide which parameters are the best to use.\n",
        "\n",
        "Here, you are asked to tune hyperparameters in two steps. \n",
        "\n",
        "**Step 1:**\n",
        "\n",
        "In the first step, train different models dfor both algorithm separately only changing number of estimators.\n",
        "\n",
        "Use the following values for this step:\n",
        "```\n",
        "'n_estimators': [50,100,300,500]\n",
        "```\n",
        "**Step 2:**\n",
        "\n",
        "In the second step, train different models **only** changing max_features values. You should use the best value for the `n_estimators` that you obtained in the first step. (The best value of `n_estimators` can be different for 2 algorithm)\n",
        "\n",
        "Use the following values for this step:\n",
        "```\n",
        "'max_features': [5,7,10,25]\n",
        "```\n",
        "\n",
        "**Remember that positive class is fraudalent ones.**\n",
        "\n",
        "\n",
        "<img src=\"https://i.ibb.co/kqQqcXS/model-results.png\" alt=\"model-results\" border=\"0\" width=\"350\">\n",
        "\n",
        "*Please keep in mind that this results might be different than what you will get due to randomness.*"
      ],
      "metadata": {
        "id": "YwEsDkCVhbQx"
      }
    },
    {
      "cell_type": "code",
      "source": [
        "print(\"Random Forest\\n\")\n",
        "n_estimators_list = [50,100,300,500]\n",
        "rf_scores = []\n",
        "\n",
        "\n",
        "rf_scores_max = 0\n",
        "rf_scores_est = 0\n",
        "\n",
        "\n",
        "for n_estimator in n_estimators_list:\n",
        "  model_rf = RandomForestClassifier(n_estimators = n_estimator)\n",
        "  model_rf.fit(X_train, y_train)\n",
        "  predict_proba_y = model_rf.predict_proba(X_val)[:,1]\n",
        "  precision, recall, thresholds = precision_recall_curve(y_val, predict_proba_y)\n",
        "  aucprc = auc(recall, precision)\n",
        "  rf_scores.append(aucprc)\n",
        "\n",
        "  if (aucprc > rf_scores_max):\n",
        "    rf_scores_max = aucprc\n",
        "    rf_scores_est = n_estimator\n",
        "\n",
        "for x in range(len(n_estimators_list)):\n",
        "  print(\"n_estimators_ \", n_estimators_list[x], \", AUPRC score: \", rf_scores[x])\n",
        "\n",
        "print()\n",
        "print(\"Best n_estimators for Random Forest = \", rf_scores_est)\n",
        "print()\n",
        "\n",
        "max_features_list = [5,7,10,25]\n",
        "rf_scores2 = []\n",
        "\n",
        "feature_max = 0\n",
        "feature_wanted = 0\n",
        "\n",
        "for max_feature in max_features_list:\n",
        "  model_rf = RandomForestClassifier(n_estimators = rf_scores_est, max_features=max_feature)\n",
        "  model_rf.fit(X_train, y_train)\n",
        "  predict_proba_y = model_rf.predict_proba(X_val)[:,1]\n",
        "  precision, recall, thresholds = precision_recall_curve(y_val, predict_proba_y)\n",
        "  aucprc = auc(recall, precision)\n",
        "  rf_scores2.append(aucprc)\n",
        "  if (aucprc > feature_max):\n",
        "    feature_max = aucprc\n",
        "    feature_wanted = max_feature\n",
        "\n",
        "for x in range(len(max_features_list)):\n",
        "  print(\"For Random Forest, best n_estimators = \", rf_scores_est, \" and max_features = \", max_features_list[x], \"AUPRC score: \", rf_scores2[x])\n",
        "\n",
        "print()\n",
        "print(\"Best max features for Random Forest = \", feature_wanted)\n",
        "print()\n",
        "\n",
        "\n",
        "\n",
        "gb_scores_max = 0\n",
        "gb_scores_est = 0\n",
        "gb_scores = []\n",
        "\n",
        "print(\"Gradient Boosting:\\n\")\n",
        "\n",
        "for n_estimator in n_estimators_list:\n",
        "  model_gb = GradientBoostingClassifier(n_estimators = n_estimator)\n",
        "  model_gb.fit(X_train, y_train)\n",
        "  predict_proba_y = model_gb.predict_proba(X_val)[:,1]\n",
        "  precision, recall, thresholds = precision_recall_curve(y_val, predict_proba_y)\n",
        "  aucprc = auc(recall, precision)\n",
        "  gb_scores.append(aucprc)\n",
        "\n",
        "  if (aucprc > gb_scores_max):\n",
        "    gb_scores_max = aucprc\n",
        "    gb_scores_est = n_estimator\n",
        "\n",
        "for x in range(len(n_estimators_list)):\n",
        "   print(\"n_estimators_ \", n_estimators_list[x], \", AUPRC score: \", gb_scores[x])\n",
        "print()\n",
        "print(\"Best n_estimators for Gradient Boosting = \", gb_scores_est)\n",
        "print()\n",
        "\n",
        "max_features_list = [5,7,10,25]\n",
        "gb_scores2 = []\n",
        "\n",
        "feature_max2 = 0\n",
        "feature_wanted2 = 0\n",
        "\n",
        "for max_feature in max_features_list:\n",
        "  model_gb = GradientBoostingClassifier(n_estimators = gb_scores_est, max_features = max_feature)\n",
        "  model_gb.fit(X_train, y_train)\n",
        "  predict_proba_y = model_gb.predict_proba(X_val)[:,1]\n",
        "  precision, recall, thresholds = precision_recall_curve(y_val, predict_proba_y)\n",
        "  aucprc = auc(recall, precision)\n",
        "  gb_scores2.append(aucprc)\n",
        "  if (aucprc > feature_max2):\n",
        "    feature_max2 = aucprc\n",
        "    feature_wanted2 = max_feature\n",
        "\n",
        "for x in range(len(max_features_list)):\n",
        "  print(\"For Gradient Boosting, best n_estimators = \", gb_scores_est, \" and best max_features = \", max_features_list[x], \"AUPRC score: \", gb_scores2[x])\n",
        "\n",
        "print()\n",
        "print(\"Best max features for Gradient Boosting = \", feature_wanted2)\n",
        "\n",
        "\n",
        "\n",
        "\n",
        "\n"
      ],
      "metadata": {
        "id": "PLoXHgbihd77",
        "colab": {
          "base_uri": "https://localhost:8080/"
        },
        "outputId": "4bdb099b-516f-4d98-eb51-a72a0cf9cf6e"
      },
      "execution_count": 12,
      "outputs": [
        {
          "output_type": "stream",
          "name": "stdout",
          "text": [
            "Random Forest\n",
            "\n",
            "n_estimators_  50 , AUPRC score:  0.9446217875205487\n",
            "n_estimators_  100 , AUPRC score:  0.9561109802030155\n",
            "n_estimators_  300 , AUPRC score:  0.9560087457388342\n",
            "n_estimators_  500 , AUPRC score:  0.9548000057337529\n",
            "\n",
            "Best n_estimators for Random Forest =  100\n",
            "\n",
            "For Random Forest, best n_estimators =  100  and max_features =  5 AUPRC score:  0.9450968655050087\n",
            "For Random Forest, best n_estimators =  100  and max_features =  7 AUPRC score:  0.9522185702036816\n",
            "For Random Forest, best n_estimators =  100  and max_features =  10 AUPRC score:  0.9462317126705853\n",
            "For Random Forest, best n_estimators =  100  and max_features =  25 AUPRC score:  0.9392999151586803\n",
            "\n",
            "Best max features for Random Forest =  7\n",
            "\n",
            "Gradient Boosting:\n",
            "\n",
            "n_estimators_  50 , AUPRC score:  0.7833680872236111\n",
            "n_estimators_  100 , AUPRC score:  0.7342044333418791\n",
            "n_estimators_  300 , AUPRC score:  0.7589120631354294\n",
            "n_estimators_  500 , AUPRC score:  0.8169683451815805\n",
            "\n",
            "Best n_estimators for Gradient Boosting =  500\n",
            "\n",
            "For Gradient Boosting, best n_estimators =  500  and best max_features =  5 AUPRC score:  0.8119932521549429\n",
            "For Gradient Boosting, best n_estimators =  500  and best max_features =  7 AUPRC score:  0.87248721191331\n",
            "For Gradient Boosting, best n_estimators =  500  and best max_features =  10 AUPRC score:  0.9184752643605588\n",
            "For Gradient Boosting, best n_estimators =  500  and best max_features =  25 AUPRC score:  0.8885191812673234\n",
            "\n",
            "Best max features for Gradient Boosting =  10\n"
          ]
        }
      ]
    },
    {
      "cell_type": "markdown",
      "source": [
        "## Q6 - Evaluate on Test Data (20 PTS)\n",
        "\n",
        "Here, you are asked to evaluate the final model using the test data. Select the best model among these 2 different algorithms and its best num_estimator and max features. \n",
        "\n",
        "### Retrain the Model\n",
        "\n",
        "Retrain your model combining train + validation data with using the hyperparameters you have chosen (best). This part has no points but it's necessary to do the upcoming parts"
      ],
      "metadata": {
        "id": "KBF4FHoJh1Dy"
      }
    },
    {
      "cell_type": "code",
      "source": [
        "# Your Code\n",
        "\n",
        "\n",
        "#these n_estimator and feature wanted scores are my optimal scores for random forest, but the last time I ran it it timedout therefore had to type it exclusively\n",
        "final_model = RandomForestClassifier(n_estimators=rf_scores_est, max_features=feature_wanted)\n",
        "\n",
        "# Combine the train and validation data\n",
        "X_train_val = np.concatenate((X_train, X_val))\n",
        "y_train_val = np.concatenate((y_train, y_val))\n",
        "\n",
        "# Fit the model to the combined train and validation data\n",
        "final_model.fit(X_train_val, y_train_val)\n",
        "\n"
      ],
      "metadata": {
        "id": "czrRxVIrh4Y0",
        "colab": {
          "base_uri": "https://localhost:8080/"
        },
        "outputId": "43f7ac4f-d190-4c32-8949-eac4caf219e8"
      },
      "execution_count": 13,
      "outputs": [
        {
          "output_type": "execute_result",
          "data": {
            "text/plain": [
              "RandomForestClassifier(max_features=7)"
            ]
          },
          "metadata": {},
          "execution_count": 13
        }
      ]
    },
    {
      "cell_type": "markdown",
      "source": [
        "### Part 1 - Plot Confusion Matrix (10 Points)\n",
        "\n",
        "Expected Output:\n",
        "\n",
        "<img src=\"https://i.ibb.co/mNKZj6q/test-conf.png\" alt=\"test-conf\" border=\"0\" width=\"300\">\n",
        "\n",
        "*Please keep in mind that this confusion matrix might be different than what you will get.*"
      ],
      "metadata": {
        "id": "pMqe1lNNh8Xh"
      }
    },
    {
      "cell_type": "code",
      "source": [
        "# Your Code\n",
        "\n",
        "y_pred = final_model.predict(X_test)\n",
        "\n",
        "# Calculate the confusion matrix\n",
        "conf_matrix = confusion_matrix(y_test, y_pred)\n",
        "\n",
        "# Plot the confusion matrix\n",
        "plt.imshow(conf_matrix, cmap='Blues')\n",
        "plt.colorbar()\n",
        "plt.xlabel('Predicted label')\n",
        "plt.ylabel('True label')\n",
        "plt.show()"
      ],
      "metadata": {
        "id": "tydgF9YziAxq",
        "colab": {
          "base_uri": "https://localhost:8080/",
          "height": 283
        },
        "outputId": "71bf6c2d-36c6-485e-ebca-9a50c877dd8d"
      },
      "execution_count": 14,
      "outputs": [
        {
          "output_type": "display_data",
          "data": {
            "text/plain": [
              "<Figure size 432x288 with 2 Axes>"
            ],
            "image/png": "[encoded data removed]"
          },
          "metadata": {
            "needs_background": "light"
          }
        }
      ]
    },
    {
      "cell_type": "markdown",
      "source": [
        "### Part 2 - Plot ROC Curve and Precision-Recall Curve Evaluated on Test Data (10 Points)\n",
        "\n",
        "Expected Output:\n",
        "\n",
        "<img src=\"https://i.ibb.co/9tTNp5j/test-plot.png\" alt=\"test-plot\" border=\"0\" width=\"500\">\n",
        "\n",
        "*Please keep in mind that these plots might be different than what you will get due to randomness.*"
      ],
      "metadata": {
        "id": "O6tDwR7DiIJk"
      }
    },
    {
      "cell_type": "code",
      "source": [
        "# Your Code\n",
        "\n",
        "rf_fpr, rf_tpr, rf_thresholds = roc_curve(y_test, y_pred)\n",
        "rf_auc = auc(rf_fpr, rf_tpr)\n",
        "\n",
        "\n",
        "\n",
        "RocCurveDisplay(fpr=rf_fpr, tpr=rf_tpr, roc_auc=rf_auc, estimator_name='Random Forest').plot()\n",
        "plt.xlim([0,1])\n",
        "plt.ylim([0,1])\n",
        "\n",
        "PrecisionRecallDisplay(recall=rf_recall, precision=rf_precision, estimator_name='Random Forest').plot()\n",
        "plt.xlim([0,1])\n",
        "plt.ylim([0,1])\n"
      ],
      "metadata": {
        "id": "Y-J44R7viKtz",
        "colab": {
          "base_uri": "https://localhost:8080/",
          "height": 566
        },
        "outputId": "045c2abd-ed94-45c4-c7e2-55ceefed53ad"
      },
      "execution_count": 18,
      "outputs": [
        {
          "output_type": "execute_result",
          "data": {
            "text/plain": [
              "(0.0, 1.0)"
            ]
          },
          "metadata": {},
          "execution_count": 18
        },
        {
          "output_type": "display_data",
          "data": {
            "text/plain": [
              "<Figure size 432x288 with 1 Axes>"
            ],
            "image/png": "[encoded data removed]"
          },
          "metadata": {
            "needs_background": "light"
          }
        },
        {
          "output_type": "display_data",
          "data": {
            "text/plain": [
              "<Figure size 432x288 with 1 Axes>"
            ],
            "image/png": "[encoded data removed]"
          },
          "metadata": {
            "needs_background": "light"
          }
        }
      ]
    }
  ]
}